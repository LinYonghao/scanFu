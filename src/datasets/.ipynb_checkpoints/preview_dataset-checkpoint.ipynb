{
 "cells": [
  {
   "cell_type": "code",
   "execution_count": 1,
   "metadata": {
    "pycharm": {
     "is_executing": true
    }
   },
   "outputs": [
    {
     "ename": "ModuleNotFoundError",
     "evalue": "No module named 'utils'",
     "output_type": "error",
     "traceback": [
      "\u001b[0;31m---------------------------------------------------------------------------\u001b[0m",
      "\u001b[0;31mModuleNotFoundError\u001b[0m                       Traceback (most recent call last)",
      "Input \u001b[0;32mIn [1]\u001b[0m, in \u001b[0;36m<cell line: 1>\u001b[0;34m()\u001b[0m\n\u001b[0;32m----> 1\u001b[0m \u001b[38;5;28;01mfrom\u001b[39;00m \u001b[38;5;21;01mutils\u001b[39;00m\u001b[38;5;21;01m.\u001b[39;00m\u001b[38;5;21;01mimg_util\u001b[39;00m \u001b[38;5;28;01mimport\u001b[39;00m show_img_bbox\n\u001b[1;32m      2\u001b[0m \u001b[38;5;28;01mfrom\u001b[39;00m \u001b[38;5;21;01mFuDataset\u001b[39;00m \u001b[38;5;28;01mimport\u001b[39;00m FuDataset\n\u001b[1;32m      3\u001b[0m \u001b[38;5;28;01mfrom\u001b[39;00m \u001b[38;5;21;01mutils\u001b[39;00m\u001b[38;5;21;01m.\u001b[39;00m\u001b[38;5;21;01mpath\u001b[39;00m \u001b[38;5;28;01mimport\u001b[39;00m get_path\n",
      "\u001b[0;31mModuleNotFoundError\u001b[0m: No module named 'utils'"
     ]
    }
   ],
   "source": [
    "from utils.img_util import show_img_bbox\n",
    "from FuDataset import FuDataset\n",
    "from utils.path import get_path\n",
    "\n",
    "train_dataset = FuDataset(\n",
    "        root_dir=get_path(\"D:\\datasets\\Fu\"),\n",
    "        img_dir=get_path(\"D:\\datasets\\Fu\\JPEGImages/\"),\n",
    "        txt=get_path(\"D:\\datasets\\Fu\\\\train.txt\"),\n",
    "        xml_dir=get_path(\"D:\\datasets\\Fu\\Annotaions/\")\n",
    "    )\n",
    "\n",
    "datas = [train_dataset[i] for i in range(2)]\n",
    "imgs = [d[0].permute(1, 2, 0).numpy() for d in datas]\n",
    "for image, target, image_id in datas:\n",
    "  show_img_bbox(image, target['boxes'])"
   ]
  },
  {
   "cell_type": "code",
   "execution_count": null,
   "metadata": {},
   "outputs": [],
   "source": []
  }
 ],
 "metadata": {
  "kernelspec": {
   "display_name": "Python 3 (ipykernel)",
   "language": "python",
   "name": "python3"
  },
  "language_info": {
   "codemirror_mode": {
    "name": "ipython",
    "version": 3
   },
   "file_extension": ".py",
   "mimetype": "text/x-python",
   "name": "python",
   "nbconvert_exporter": "python",
   "pygments_lexer": "ipython3",
   "version": "3.9.7"
  }
 },
 "nbformat": 4,
 "nbformat_minor": 1
}
